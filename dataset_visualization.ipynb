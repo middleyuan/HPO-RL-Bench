{
 "cells": [
  {
   "cell_type": "code",
   "execution_count": 19,
   "metadata": {},
   "outputs": [],
   "source": [
    "import os\n",
    "from itertools import product\n",
    "import pandas as pd\n",
    "\n",
    "from benchmark_handler import BenchmarkHandler"
   ]
  },
  {
   "cell_type": "code",
   "execution_count": 20,
   "metadata": {},
   "outputs": [],
   "source": [
    "benchmark = BenchmarkHandler()\n",
    "dataset_path = 'data_arl_bench'\n",
    "rl_list = os.listdir(dataset_path)\n",
    "rl_search_spaces = {rl: benchmark.get_search_space(rl) for rl in rl_list}\n",
    "hyperparameter_set = list(set([key for rl in rl_list for key in rl_search_spaces[rl].keys()]))\n",
    "envs = {rl: os.listdir(os.path.join(dataset_path, rl)) for rl in rl_list}\n",
    "budgets = [i for i in range(1, 101)]\n",
    "seeds = [i for i in range(3)]\n",
    "metrics = [\"eval_avg_returns\", \"eval_std_returns\", \"eval_timestamps\", \"eval_timesteps\"]"
   ]
  },
  {
   "cell_type": "code",
   "execution_count": 22,
   "metadata": {},
   "outputs": [],
   "source": [
    "data_list = []\n",
    "\n",
    "for rl in rl_list:\n",
    "    search_spaces = rl_search_spaces[rl]\n",
    "    config_combination = list(product(*search_spaces.values()))\n",
    "    param_names = search_spaces.keys()\n",
    "    config_dicts = [dict(zip(param_names, values)) for values in config_combination]\n",
    "    \n",
    "    for config in config_dicts:\n",
    "            for env in envs[rl]:\n",
    "                for budget in budgets:\n",
    "                    for seed in seeds:\n",
    "                        metric_values = benchmark.get_metrics(config, rl, env, seed, budget)\n",
    "                        metric_value_list = [metric_values[metric] for metric in metrics]\n",
    "                        config_list = [config[hp] if hp in config else None for hp in hyperparameter_set]\n",
    "                        data_list.append([rl, env, budget, seed] + metric_value_list + config_list)\n",
    "\n",
    "# Create the DataFrame from the collected data\n",
    "dataset_df = pd.DataFrame(data_list, columns=[\"rl\", \"env\", \"budget\", \"seed\"] + metrics + hyperparameter_set)\n",
    "# Pickle the DataFrame\n",
    "dataset_df.to_pickle(\"dataset.pkl\")"
   ]
  }
 ],
 "metadata": {
  "kernelspec": {
   "display_name": "hpo_rl_bench",
   "language": "python",
   "name": "python3"
  },
  "language_info": {
   "codemirror_mode": {
    "name": "ipython",
    "version": 3
   },
   "file_extension": ".py",
   "mimetype": "text/x-python",
   "name": "python",
   "nbconvert_exporter": "python",
   "pygments_lexer": "ipython3",
   "version": "3.9.20"
  }
 },
 "nbformat": 4,
 "nbformat_minor": 2
}
